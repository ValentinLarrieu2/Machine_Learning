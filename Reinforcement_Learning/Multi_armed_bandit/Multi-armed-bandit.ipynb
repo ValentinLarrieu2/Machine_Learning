{
 "cells": [
  {
   "cell_type": "markdown",
   "metadata": {},
   "source": [
    "@author: Valentin Larrieu"
   ]
  },
  {
   "cell_type": "markdown",
   "metadata": {},
   "source": [
    "# Multi-armed bandits"
   ]
  },
  {
   "cell_type": "markdown",
   "metadata": {},
   "source": [
    "The objective of this lab session is to test the performance of some usual bandit algorithms."
   ]
  },
  {
   "cell_type": "code",
   "execution_count": 11,
   "metadata": {
    "ExecuteTime": {
     "end_time": "2019-02-13T10:15:06.830465Z",
     "start_time": "2019-02-13T10:15:06.824519Z"
    }
   },
   "outputs": [],
   "source": [
    "import numpy as np\n",
    "import matplotlib.pyplot as plt\n",
    "import random"
   ]
  },
  {
   "cell_type": "markdown",
   "metadata": {},
   "source": [
    "## Algorithms"
   ]
  },
  {
   "cell_type": "markdown",
   "metadata": {},
   "source": [
    "There are $k$ possible actions, $a \\in \\{ 0, 1,...,k - 1\\}$. \n",
    "\n",
    "We consider the following algorithms:\n",
    "* $\\varepsilon$-greedy\n",
    "* adaptive greedy\n",
    "* UCB\n",
    "* Thompson sampling\n",
    "\n",
    "Each algorithm returns an action $a$ based on the following inputs:\n",
    "\n",
    "| Variable   |      Type      |  Description |\n",
    "|:---|:---|:---|\n",
    "| `nb_tries` |  1D array of int of size `k` | number of tries of each action so far |\n",
    "| `cum_rewards` |    1D array of float of size `k`    |   cumulative reward of each action so far |\n",
    "| `t` | integer (optional) |    current time |\n",
    "| `param` | mixed |    parameter of the algorithm |"
   ]
  },
  {
   "cell_type": "code",
   "execution_count": 2,
   "metadata": {
    "ExecuteTime": {
     "end_time": "2019-02-13T10:13:43.886288Z",
     "start_time": "2019-02-13T10:13:43.878309Z"
    }
   },
   "outputs": [],
   "source": [
    "def eps_greedy(nb_tries, cum_rewards, param):\n",
    "    if param == None:\n",
    "        eps = 0.1\n",
    "    else:\n",
    "        eps = float(param)\n",
    "    k = np.shape(nb_tries)[0]\n",
    "    if np.sum(nb_tries) == 0 or np.random.random() < eps:\n",
    "        return np.random.randint(k)\n",
    "    else:\n",
    "        index = np.where(nb_tries > 0)[0]\n",
    "        return index[np.argmax(cum_rewards[index] / nb_tries[index])]"
   ]
  },
  {
   "cell_type": "code",
   "execution_count": 3,
   "metadata": {
    "ExecuteTime": {
     "end_time": "2019-02-13T10:13:43.899784Z",
     "start_time": "2019-02-13T10:13:43.891275Z"
    }
   },
   "outputs": [],
   "source": [
    "def adaptive_greedy(nb_tries, cum_rewards, param):\n",
    "    if param == None:\n",
    "        c = 1.\n",
    "    else:\n",
    "        c = float(param)\n",
    "    k = np.shape(nb_tries)[0]\n",
    "    t = np.sum(nb_tries)\n",
    "    if np.sum(nb_tries) == 0 or np.random.random() < c / (c + t):\n",
    "        return np.random.randint(k)\n",
    "    else:\n",
    "        index = np.where(nb_tries > 0)[0]\n",
    "        return index[np.argmax(cum_rewards[index] / nb_tries[index])]"
   ]
  },
  {
   "cell_type": "code",
   "execution_count": 12,
   "metadata": {
    "ExecuteTime": {
     "end_time": "2019-02-13T10:15:28.614386Z",
     "start_time": "2019-02-13T10:15:28.604415Z"
    }
   },
   "outputs": [],
   "source": [
    "def ucb(nb_tries, cum_rewards, param):\n",
    "    if param == None:\n",
    "        c = 1. \n",
    "    else:\n",
    "        c = float(param)\n",
    "    # to be completed  \n",
    "    k = np.shape(nb_tries)[0]\n",
    "    t = np.sum(nb_tries)\n",
    "    if np.min(nb_tries) == 0:\n",
    "        return np.random.choice(np.where(nb_tries == 0)[0])\n",
    "    else:\n",
    "        index = np.where(nb_tries > 0)[0]\n",
    "        #return np.argmax(cum_rewards[index] / nb_tries[index]) + c * (np.sqrt(np.log(t)/nb_tries[index]))\n",
    "        return index[np.argmax(cum_rewards[index] / nb_tries[index] + c * (np.sqrt(np.log(t)/nb_tries[index])))]\n",
    "    # to be completed\n",
    "    return 0"
   ]
  },
  {
   "cell_type": "code",
   "execution_count": 5,
   "metadata": {
    "ExecuteTime": {
     "end_time": "2019-02-13T10:13:43.955194Z",
     "start_time": "2019-02-13T10:13:43.945130Z"
    }
   },
   "outputs": [],
   "source": [
    "def thompson(nb_tries, cum_rewards, param):\n",
    "    k = np.shape(nb_tries)[0]\n",
    "    if param == \"beta\":\n",
    "        # Beta prior\n",
    "        try:\n",
    "            samples = np.random.beta(cum_rewards + 1, nb_tries - cum_rewards + 1)\n",
    "        except:\n",
    "            samples = np.random.random(k)\n",
    "    else:\n",
    "        # Normal prior\n",
    "        samples = np.random.normal(cum_rewards / (nb_tries + 1), 1. / (nb_tries + 1))\n",
    "    return np.argmax(samples)"
   ]
  },
  {
   "cell_type": "code",
   "execution_count": 6,
   "metadata": {
    "ExecuteTime": {
     "end_time": "2019-02-13T10:13:43.967071Z",
     "start_time": "2019-02-13T10:13:43.959093Z"
    }
   },
   "outputs": [],
   "source": [
    "def get_action(algo, nb_tries, cum_rewards, param = None):\n",
    "    if algo == \"eps_greedy\":\n",
    "        return eps_greedy(nb_tries, cum_rewards, param)\n",
    "    elif algo == \"adaptive_greedy\":\n",
    "        return adaptive_greedy(nb_tries, cum_rewards, param)\n",
    "    elif algo == \"ucb\":\n",
    "        return ucb(nb_tries, cum_rewards, param)\n",
    "    elif algo == \"thompson\":\n",
    "        return thompson(nb_tries, cum_rewards, param)"
   ]
  },
  {
   "cell_type": "code",
   "execution_count": 7,
   "metadata": {
    "ExecuteTime": {
     "end_time": "2019-02-13T10:13:43.977083Z",
     "start_time": "2019-02-13T10:13:43.970428Z"
    }
   },
   "outputs": [],
   "source": [
    "def get_bernoulli_reward(a, model_param):\n",
    "    return float(np.random.random() < model_param[a])"
   ]
  },
  {
   "cell_type": "code",
   "execution_count": 23,
   "metadata": {
    "ExecuteTime": {
     "end_time": "2019-02-13T10:21:49.779528Z",
     "start_time": "2019-02-13T10:21:49.768552Z"
    }
   },
   "outputs": [],
   "source": [
    "def simple_test(algo, model_param = [0.1, 0.6, 0.3], time_horizon = 20, param = None):\n",
    "    k = len(model_param)\n",
    "    nb_tries = np.zeros(k, int)\n",
    "    cum_rewards = np.zeros(k, float)\n",
    "    #print (\"action -> reward\")\n",
    "    for t in range(time_horizon):\n",
    "        a = get_action(algo, nb_tries, cum_rewards, param)\n",
    "        r = get_bernoulli_reward(a, model_param)\n",
    "        #print(str(a) + \" -> \" + str(int(r)))\n",
    "        nb_tries[a] += 1\n",
    "        cum_rewards[a] += r\n",
    "    index = np.where(nb_tries > 0)[0]\n",
    "    best_action = index[np.argmax(cum_rewards[index] / nb_tries[index])]\n",
    "    #print(\"Best action (estimation) = \", best_action)\n",
    "    #print(\"Average reward of this action = \", cum_rewards[best_action] / nb_tries[best_action])\n",
    "    re = cum_rewards[best_action] / nb_tries[best_action]\n",
    "    precision = 1/ time_horizon * nb_tries[1]\n",
    "    return precision"
   ]
  },
  {
   "cell_type": "code",
   "execution_count": 9,
   "metadata": {
    "ExecuteTime": {
     "end_time": "2019-02-13T10:13:44.000980Z",
     "start_time": "2019-02-13T10:13:43.994996Z"
    }
   },
   "outputs": [],
   "source": [
    "algos = [\"eps_greedy\", \"adaptive_greedy\", \"ucb\", \"thompson\"]"
   ]
  },
  {
   "cell_type": "code",
   "execution_count": 24,
   "metadata": {
    "ExecuteTime": {
     "end_time": "2019-02-13T10:21:52.242004Z",
     "start_time": "2019-02-13T10:21:51.735298Z"
    }
   },
   "outputs": [
    {
     "name": "stdout",
     "output_type": "stream",
     "text": [
      "\n",
      "\n",
      " Algo :  eps_greedy\n",
      "Avg score =  0.3929999999999999\n",
      "\n",
      "\n",
      " Algo :  adaptive_greedy\n",
      "Avg score =  0.5025\n",
      "\n",
      "\n",
      " Algo :  ucb\n",
      "Avg score =  0.5500000000000003\n",
      "\n",
      "\n",
      " Algo :  thompson\n",
      "Avg score =  0.601\n"
     ]
    }
   ],
   "source": [
    "#algo = algos[0]\n",
    "nbiter = 100\n",
    "for algo in algos:\n",
    "    print(\"\\n\\n Algo : \", algo)\n",
    "    sumv = 0\n",
    "    for ite in range (nbiter):\n",
    "        val = simple_test(algo)\n",
    "        sumv = sumv + val\n",
    "    print(\"Avg score = \" ,sumv / nbiter)\n",
    "    \n"
   ]
  },
  {
   "cell_type": "markdown",
   "metadata": {},
   "source": [
    "## Regret and precision\n",
    "\n",
    "We now compare the performance of the algorithms in terms of **regret** and **precision**.\n",
    "\n",
    "We consider two models: Bernoulli rewards and normal rewards. "
   ]
  },
  {
   "cell_type": "code",
   "execution_count": 25,
   "metadata": {
    "ExecuteTime": {
     "end_time": "2019-02-13T10:25:59.328154Z",
     "start_time": "2019-02-13T10:25:59.321630Z"
    }
   },
   "outputs": [],
   "source": [
    "def get_reward(a, model, model_param):\n",
    "    if model == \"bernoulli\":\n",
    "        return float(np.random.random() < model_param[a])\n",
    "    elif model == \"normal\":\n",
    "        return np.random.normal(*model_param[a])"
   ]
  },
  {
   "cell_type": "code",
   "execution_count": 26,
   "metadata": {
    "ExecuteTime": {
     "end_time": "2019-02-13T10:25:59.570634Z",
     "start_time": "2019-02-13T10:25:59.562573Z"
    }
   },
   "outputs": [],
   "source": [
    "def simulate(model, model_param, time_horizon, algo, param = None):\n",
    "    k = len(model_param)\n",
    "    nb_tries = np.zeros(k, int)\n",
    "    cum_rewards = np.zeros(k, float)\n",
    "    action_seq = []\n",
    "    reward_seq = []\n",
    "    for t in range(time_horizon):\n",
    "        a = get_action(algo, nb_tries, cum_rewards, param)\n",
    "        r = get_reward(a, model, model_param)\n",
    "        nb_tries[a] += 1\n",
    "        cum_rewards[a] += r\n",
    "        action_seq.append(a)\n",
    "        reward_seq.append(r)\n",
    "    return action_seq, reward_seq"
   ]
  },
  {
   "cell_type": "code",
   "execution_count": 27,
   "metadata": {
    "ExecuteTime": {
     "end_time": "2019-02-13T10:25:59.799533Z",
     "start_time": "2019-02-13T10:25:59.789957Z"
    }
   },
   "outputs": [
    {
     "name": "stdout",
     "output_type": "stream",
     "text": [
      "[0, 0, 0, 0, 0, 0, 0, 0, 0, 0, 2, 2, 2, 2, 2, 2, 2, 2, 2, 2]\n",
      "[0.0, 0.0, 0.0, 0.0, 0.0, 0.0, 0.0, 0.0, 0.0, 0.0, 1.0, 0.0, 0.0, 0.0, 0.0, 0.0, 1.0, 0.0, 0.0, 0.0]\n"
     ]
    }
   ],
   "source": [
    "# Bernoulli rewards\n",
    "model = \"bernoulli\"\n",
    "model_param = [0.1, 0.6, 0.3]\n",
    "time_horizon = 20\n",
    "algo = algos[1]\n",
    "action_seq, reward_seq = simulate(model, model_param, time_horizon, algo)\n",
    "print(action_seq)\n",
    "print(reward_seq)"
   ]
  },
  {
   "cell_type": "code",
   "execution_count": 28,
   "metadata": {
    "ExecuteTime": {
     "end_time": "2019-02-13T10:26:00.014828Z",
     "start_time": "2019-02-13T10:26:00.003777Z"
    }
   },
   "outputs": [
    {
     "name": "stdout",
     "output_type": "stream",
     "text": [
      "[1, 1, 1, 1, 1, 1, 1, 1, 1, 1, 1, 1, 1, 1, 1, 1, 1, 1, 1, 1]\n",
      "[2.889533406374649, 2.3746584730751854, 3.8653705796052673, 2.057169265294183, 2.2284161147256816, 2.0315118160053487, 0.5183593057659015, 1.6595086357986437, 2.3617833288529906, 2.3043299757672955, 4.677691052136277, 2.2708475909686614, 2.57753842348656, 3.198994026590038, 3.8374181345538263, 2.299743267662287, 2.4709298197416953, 3.6954624264862237, 1.8862191978130354, 0.8211241236500617]\n"
     ]
    }
   ],
   "source": [
    "# Normal rewards\n",
    "model = \"normal\"\n",
    "model_param = [(2,1), (2.5,1)]\n",
    "action_seq, reward_seq = simulate(model, model_param, time_horizon, algo)\n",
    "print(action_seq)\n",
    "print(reward_seq)"
   ]
  },
  {
   "cell_type": "code",
   "execution_count": 29,
   "metadata": {
    "ExecuteTime": {
     "end_time": "2019-02-13T10:26:00.647252Z",
     "start_time": "2019-02-13T10:26:00.639646Z"
    }
   },
   "outputs": [],
   "source": [
    "def get_best_action(model, model_param):\n",
    "    if model == \"bernoulli\":\n",
    "        best_reward = np.max(model_param)\n",
    "        best_actions = list(np.where(model_param == best_reward)[0])\n",
    "    elif model == \"normal\":\n",
    "        means = [params[a][0] for a in range(len(model_param))]\n",
    "        best_reward = np.max(model_param)\n",
    "        best_actions = list(np.where(means == best_reward)[0])\n",
    "    return best_actions, best_reward"
   ]
  },
  {
   "cell_type": "code",
   "execution_count": 59,
   "metadata": {
    "ExecuteTime": {
     "end_time": "2019-02-13T11:47:07.518113Z",
     "start_time": "2019-02-13T11:47:07.508139Z"
    }
   },
   "outputs": [],
   "source": [
    "def get_metrics(action_seq, reward_seq, best_actions, best_reward):\n",
    "    time_horizon = len(action_seq)\n",
    "    regret = np.zeros(time_horizon, float)\n",
    "    precision = np.zeros(time_horizon, float)\n",
    "    \n",
    "    #Init\n",
    "    regret[0] = best_reward - reward_seq[0]\n",
    "    precision[0] = int(action_seq[0] == best_actions[0])\n",
    "    \n",
    "    for t in range(1, time_horizon) :\n",
    "        regret[t] = best_reward -reward_seq[t] + regret[t-1]\n",
    "        precision[t] = ((t-1) * precision[t-1] + int(action_seq[t] == best_actions[0])) / t\n",
    "        \n",
    "    return regret, precision"
   ]
  },
  {
   "cell_type": "code",
   "execution_count": 60,
   "metadata": {
    "ExecuteTime": {
     "end_time": "2019-02-13T11:47:07.894109Z",
     "start_time": "2019-02-13T11:47:07.887128Z"
    }
   },
   "outputs": [],
   "source": [
    "def show_metrics(metrics):\n",
    "    fig, (ax1, ax2) = plt.subplots(1,2,figsize=(12, 4))\n",
    "    ax1.set_xlabel('Time')\n",
    "    ax1.set_ylabel('Regret')\n",
    "    ax1.plot(range(time_horizon),metrics[0], color = 'b')\n",
    "    ax2.set_xlabel('Time')\n",
    "    ax2.set_ylabel('Precision')\n",
    "    ax2.set_ylim(-0.02,1.02)\n",
    "    ax2.plot(range(time_horizon),metrics[1], color = 'b')\n",
    "    plt.show()"
   ]
  },
  {
   "cell_type": "code",
   "execution_count": 61,
   "metadata": {
    "ExecuteTime": {
     "end_time": "2019-02-13T11:47:08.049692Z",
     "start_time": "2019-02-13T11:47:08.045704Z"
    }
   },
   "outputs": [],
   "source": [
    "time_horizon = 10000\n",
    "model = \"bernoulli\"\n",
    "model_param = [0.2, 0.5]"
   ]
  },
  {
   "cell_type": "code",
   "execution_count": 65,
   "metadata": {
    "ExecuteTime": {
     "end_time": "2019-02-13T11:48:32.553733Z",
     "start_time": "2019-02-13T11:48:30.414422Z"
    }
   },
   "outputs": [
    {
     "name": "stdout",
     "output_type": "stream",
     "text": [
      "\n",
      "\n",
      " Algo :  eps_greedy\n"
     ]
    },
    {
     "data": {
      "image/png": "[encoded data removed]",
      "text/plain": [
       "<Figure size 864x288 with 2 Axes>"
      ]
     },
     "metadata": {
      "needs_background": "light"
     },
     "output_type": "display_data"
    },
    {
     "name": "stdout",
     "output_type": "stream",
     "text": [
      "\n",
      "\n",
      " Algo :  adaptive_greedy\n"
     ]
    },
    {
     "data": {
      "image/png": "[encoded data removed]",
      "text/plain": [
       "<Figure size 864x288 with 2 Axes>"
      ]
     },
     "metadata": {
      "needs_background": "light"
     },
     "output_type": "display_data"
    },
    {
     "name": "stdout",
     "output_type": "stream",
     "text": [
      "\n",
      "\n",
      " Algo :  ucb\n"
     ]
    },
    {
     "data": {
      "image/png": "[encoded data removed]",
      "text/plain": [
       "<Figure size 864x288 with 2 Axes>"
      ]
     },
     "metadata": {
      "needs_background": "light"
     },
     "output_type": "display_data"
    },
    {
     "name": "stdout",
     "output_type": "stream",
     "text": [
      "\n",
      "\n",
      " Algo :  thompson\n"
     ]
    },
    {
     "data": {
      "image/png": "[encoded data removed]",
      "text/plain": [
       "<Figure size 864x288 with 2 Axes>"
      ]
     },
     "metadata": {
      "needs_background": "light"
     },
     "output_type": "display_data"
    }
   ],
   "source": [
    "algo = algos[1]\n",
    "for algo in algos:\n",
    "    print(\"\\n\\n Algo : \", algo)\n",
    "    results = simulate(model, model_param, time_horizon,  algo)\n",
    "    metrics = get_metrics(*results, *get_best_action(model, model_param))\n",
    "    show_metrics(metrics)"
   ]
  },
  {
   "cell_type": "markdown",
   "metadata": {},
   "source": [
    "## Statistics\n",
    "\n",
    "Finally, we provide some statistics on the performance of each algorithm for different time horizons.\n"
   ]
  },
  {
   "cell_type": "code",
   "execution_count": 66,
   "metadata": {
    "ExecuteTime": {
     "end_time": "2019-02-13T11:49:13.464288Z",
     "start_time": "2019-02-13T11:49:13.454318Z"
    }
   },
   "outputs": [],
   "source": [
    "def get_stats(nb_samples, time_periods, model, model_param, algo, param = None):\n",
    "    time_horizon = max(time_periods)\n",
    "    norm_regret_samples = [[] for t in time_periods]\n",
    "    precision_samples = [[] for t in time_periods]\n",
    "    for s in range(nb_samples):\n",
    "        results = simulate(model, model_param, time_horizon, algo, param)\n",
    "        regret, precision = get_metrics(*results, *get_best_action(model, model_param))\n",
    "        for i,t in enumerate(time_periods):\n",
    "            norm_regret_samples[i].append(regret[t - 1] / t)\n",
    "            precision_samples[i].append(precision[t - 1])\n",
    "    return norm_regret_samples, precision_samples"
   ]
  },
  {
   "cell_type": "code",
   "execution_count": 67,
   "metadata": {
    "ExecuteTime": {
     "end_time": "2019-02-13T11:49:13.764486Z",
     "start_time": "2019-02-13T11:49:13.538090Z"
    }
   },
   "outputs": [],
   "source": [
    "def show_stats(time_periods, stats):\n",
    "    meanprops = dict(marker='o', markeredgecolor='black', markerfacecolor='r')\n",
    "    medianprops = dict(linestyle='-', linewidth=2.5, color = 'b')\n",
    "    fig, (ax1, ax2) = plt.subplots(1,2,figsize=(12, 4))\n",
    "    ax1.boxplot(stats[0], positions = range(len(time_periods)), showfliers = False, showmeans = True, meanprops = meanprops, medianprops = medianprops)\n",
    "    ax1.axhline(linestyle = '--', color = 'r')\n",
    "    ax1.set_xticklabels(time_periods)\n",
    "    ax1.set_xlabel('Time horizon')\n",
    "    ax1.set_ylabel('Normalized regret')\n",
    "    ax2.boxplot(stats[1], positions = range(len(time_periods)), showfliers = False, showmeans = True, meanprops = meanprops, medianprops = medianprops)\n",
    "    ax2.set_ylim(-0.02,1.02)\n",
    "    ax2.axhline(y = 1, linestyle = '--', color = 'r')\n",
    "    ax2.set_xticklabels(time_periods)\n",
    "    ax2.set_xlabel('Time horizon')\n",
    "    ax2.set_ylabel('Precision')\n",
    "    plt.show()"
   ]
  },
  {
   "cell_type": "code",
   "execution_count": 68,
   "metadata": {
    "ExecuteTime": {
     "end_time": "2019-02-13T11:49:24.252440Z",
     "start_time": "2019-02-13T11:49:13.920076Z"
    }
   },
   "outputs": [],
   "source": [
    "time_periods = [100,1000,5000]\n",
    "nb_samples = 100\n",
    "model = \"bernoulli\"\n",
    "model_param = [0.1, 0.2]\n",
    "algo = algos[3]\n",
    "stats = get_stats(nb_samples, time_periods, model, model_param, algo)"
   ]
  },
  {
   "cell_type": "code",
   "execution_count": 69,
   "metadata": {
    "ExecuteTime": {
     "end_time": "2019-02-13T11:49:24.678300Z",
     "start_time": "2019-02-13T11:49:24.332223Z"
    }
   },
   "outputs": [
    {
     "data": {
      "image/png": "[encoded data removed]",
      "text/plain": [
       "<Figure size 864x288 with 2 Axes>"
      ]
     },
     "metadata": {
      "needs_background": "light"
     },
     "output_type": "display_data"
    }
   ],
   "source": [
    "show_stats(time_periods, stats)"
   ]
  }
 ],
 "metadata": {
  "hide_input": false,
  "kernelspec": {
   "display_name": "Python 3",
   "language": "python",
   "name": "python3"
  },
  "language_info": {
   "codemirror_mode": {
    "name": "ipython",
    "version": 3
   },
   "file_extension": ".py",
   "mimetype": "text/x-python",
   "name": "python",
   "nbconvert_exporter": "python",
   "pygments_lexer": "ipython3",
   "version": "3.6.8"
  },
  "latex_envs": {
   "LaTeX_envs_menu_present": true,
   "autoclose": false,
   "autocomplete": true,
   "bibliofile": "biblio.bib",
   "cite_by": "apalike",
   "current_citInitial": 1,
   "eqLabelWithNumbers": true,
   "eqNumInitial": 1,
   "hotkeys": {
    "equation": "Ctrl-E",
    "itemize": "Ctrl-I"
   },
   "labels_anchors": false,
   "latex_user_defs": false,
   "report_style_numbering": false,
   "user_envs_cfg": false
  },
  "toc": {
   "base_numbering": 1,
   "nav_menu": {},
   "number_sections": true,
   "sideBar": true,
   "skip_h1_title": false,
   "title_cell": "Table of Contents",
   "title_sidebar": "Contents",
   "toc_cell": false,
   "toc_position": {},
   "toc_section_display": true,
   "toc_window_display": false
  },
  "varInspector": {
   "cols": {
    "lenName": 16,
    "lenType": 16,
    "lenVar": 40
   },
   "kernels_config": {
    "python": {
     "delete_cmd_postfix": "",
     "delete_cmd_prefix": "del ",
     "library": "var_list.py",
     "varRefreshCmd": "print(var_dic_list())"
    },
    "r": {
     "delete_cmd_postfix": ") ",
     "delete_cmd_prefix": "rm(",
     "library": "var_list.r",
     "varRefreshCmd": "cat(var_dic_list()) "
    }
   },
   "types_to_exclude": [
    "module",
    "function",
    "builtin_function_or_method",
    "instance",
    "_Feature"
   ],
   "window_display": false
  }
 },
 "nbformat": 4,
 "nbformat_minor": 2
}
